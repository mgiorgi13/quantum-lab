{
 "cells": [
  {
   "cell_type": "code",
   "execution_count": 1,
   "id": "7169ba50",
   "metadata": {},
   "outputs": [
    {
     "name": "stdout",
     "output_type": "stream",
     "text": [
      "zsh:1: /usr/local/bin/pip3: bad interpreter: /usr/local/opt/python@3.10/bin/python3.10: no such file or directory\n",
      "Defaulting to user installation because normal site-packages is not writeable\n",
      "Requirement already satisfied: qiskit==0.42 in /Users/matteogiorgi/Library/Python/3.9/lib/python/site-packages (0.42.0)\n",
      "Requirement already satisfied: qiskit-aer==0.12.0 in /Users/matteogiorgi/Library/Python/3.9/lib/python/site-packages (from qiskit==0.42) (0.12.0)\n",
      "Requirement already satisfied: qiskit-ibmq-provider==0.20.2 in /Users/matteogiorgi/Library/Python/3.9/lib/python/site-packages (from qiskit==0.42) (0.20.2)\n",
      "Requirement already satisfied: qiskit-terra==0.23.2 in /Users/matteogiorgi/Library/Python/3.9/lib/python/site-packages (from qiskit==0.42) (0.23.2)\n",
      "Requirement already satisfied: numpy>=1.16.3 in /Users/matteogiorgi/Library/Python/3.9/lib/python/site-packages (from qiskit-aer==0.12.0->qiskit==0.42) (1.23.5)\n",
      "Requirement already satisfied: scipy>=1.0 in /Users/matteogiorgi/Library/Python/3.9/lib/python/site-packages (from qiskit-aer==0.12.0->qiskit==0.42) (1.10.1)\n",
      "Requirement already satisfied: requests-ntlm<=1.1.0 in /Users/matteogiorgi/Library/Python/3.9/lib/python/site-packages (from qiskit-ibmq-provider==0.20.2->qiskit==0.42) (1.1.0)\n",
      "Requirement already satisfied: websockets>=10.0 in /Users/matteogiorgi/Library/Python/3.9/lib/python/site-packages (from qiskit-ibmq-provider==0.20.2->qiskit==0.42) (11.0.1)\n",
      "Requirement already satisfied: urllib3>=1.21.1 in /Users/matteogiorgi/Library/Python/3.9/lib/python/site-packages (from qiskit-ibmq-provider==0.20.2->qiskit==0.42) (1.26.15)\n",
      "Requirement already satisfied: python-dateutil>=2.8.0 in /Users/matteogiorgi/Library/Python/3.9/lib/python/site-packages (from qiskit-ibmq-provider==0.20.2->qiskit==0.42) (2.8.2)\n",
      "Requirement already satisfied: requests>=2.19 in /Users/matteogiorgi/Library/Python/3.9/lib/python/site-packages (from qiskit-ibmq-provider==0.20.2->qiskit==0.42) (2.28.2)\n",
      "Requirement already satisfied: websocket-client>=1.5.1 in /Users/matteogiorgi/Library/Python/3.9/lib/python/site-packages (from qiskit-ibmq-provider==0.20.2->qiskit==0.42) (1.5.1)\n",
      "Requirement already satisfied: symengine>=0.9 in /Users/matteogiorgi/Library/Python/3.9/lib/python/site-packages (from qiskit-terra==0.23.2->qiskit==0.42) (0.10.0)\n",
      "Requirement already satisfied: sympy>=1.3 in /Users/matteogiorgi/Library/Python/3.9/lib/python/site-packages (from qiskit-terra==0.23.2->qiskit==0.42) (1.11.1)\n",
      "Requirement already satisfied: dill>=0.3 in /Users/matteogiorgi/Library/Python/3.9/lib/python/site-packages (from qiskit-terra==0.23.2->qiskit==0.42) (0.3.6)\n",
      "Requirement already satisfied: ply>=3.10 in /Users/matteogiorgi/Library/Python/3.9/lib/python/site-packages (from qiskit-terra==0.23.2->qiskit==0.42) (3.11)\n",
      "Requirement already satisfied: psutil>=5 in /Users/matteogiorgi/Library/Python/3.9/lib/python/site-packages (from qiskit-terra==0.23.2->qiskit==0.42) (5.9.4)\n",
      "Requirement already satisfied: stevedore>=3.0.0 in /Users/matteogiorgi/Library/Python/3.9/lib/python/site-packages (from qiskit-terra==0.23.2->qiskit==0.42) (5.0.0)\n",
      "Requirement already satisfied: rustworkx>=0.12.0 in /Users/matteogiorgi/Library/Python/3.9/lib/python/site-packages (from qiskit-terra==0.23.2->qiskit==0.42) (0.12.1)\n",
      "Requirement already satisfied: six>=1.5 in /Library/Developer/CommandLineTools/Library/Frameworks/Python3.framework/Versions/3.9/lib/python3.9/site-packages (from python-dateutil>=2.8.0->qiskit-ibmq-provider==0.20.2->qiskit==0.42) (1.15.0)\n",
      "Requirement already satisfied: charset-normalizer<4,>=2 in /Users/matteogiorgi/Library/Python/3.9/lib/python/site-packages (from requests>=2.19->qiskit-ibmq-provider==0.20.2->qiskit==0.42) (3.1.0)\n",
      "Requirement already satisfied: idna<4,>=2.5 in /Users/matteogiorgi/Library/Python/3.9/lib/python/site-packages (from requests>=2.19->qiskit-ibmq-provider==0.20.2->qiskit==0.42) (3.4)\n",
      "Requirement already satisfied: certifi>=2017.4.17 in /Users/matteogiorgi/Library/Python/3.9/lib/python/site-packages (from requests>=2.19->qiskit-ibmq-provider==0.20.2->qiskit==0.42) (2022.12.7)\n",
      "Requirement already satisfied: ntlm-auth>=1.0.2 in /Users/matteogiorgi/Library/Python/3.9/lib/python/site-packages (from requests-ntlm<=1.1.0->qiskit-ibmq-provider==0.20.2->qiskit==0.42) (1.5.0)\n",
      "Requirement already satisfied: cryptography>=1.3 in /Users/matteogiorgi/Library/Python/3.9/lib/python/site-packages (from requests-ntlm<=1.1.0->qiskit-ibmq-provider==0.20.2->qiskit==0.42) (40.0.1)\n",
      "Requirement already satisfied: cffi>=1.12 in /Users/matteogiorgi/Library/Python/3.9/lib/python/site-packages (from cryptography>=1.3->requests-ntlm<=1.1.0->qiskit-ibmq-provider==0.20.2->qiskit==0.42) (1.15.1)\n",
      "Requirement already satisfied: pycparser in /Users/matteogiorgi/Library/Python/3.9/lib/python/site-packages (from cffi>=1.12->cryptography>=1.3->requests-ntlm<=1.1.0->qiskit-ibmq-provider==0.20.2->qiskit==0.42) (2.21)\n",
      "Requirement already satisfied: pbr!=2.1.0,>=2.0.0 in /Users/matteogiorgi/Library/Python/3.9/lib/python/site-packages (from stevedore>=3.0.0->qiskit-terra==0.23.2->qiskit==0.42) (5.11.1)\n",
      "Requirement already satisfied: mpmath>=0.19 in /Users/matteogiorgi/Library/Python/3.9/lib/python/site-packages (from sympy>=1.3->qiskit-terra==0.23.2->qiskit==0.42) (1.3.0)\n",
      "\u001b[33mWARNING: You are using pip version 21.2.4; however, version 23.0.1 is available.\n",
      "You should consider upgrading via the '/Library/Developer/CommandLineTools/usr/bin/python3 -m pip install --upgrade pip' command.\u001b[0m\n",
      "zsh:1: /usr/local/bin/pip3: bad interpreter: /usr/local/opt/python@3.10/bin/python3.10: no such file or directory\n",
      "Defaulting to user installation because normal site-packages is not writeable\n",
      "Requirement already satisfied: qiskit[visualization] in /Users/matteogiorgi/Library/Python/3.9/lib/python/site-packages (0.42.0)\n",
      "Requirement already satisfied: qiskit-ibmq-provider==0.20.2 in /Users/matteogiorgi/Library/Python/3.9/lib/python/site-packages (from qiskit[visualization]) (0.20.2)\n",
      "Requirement already satisfied: qiskit-aer==0.12.0 in /Users/matteogiorgi/Library/Python/3.9/lib/python/site-packages (from qiskit[visualization]) (0.12.0)\n",
      "Requirement already satisfied: qiskit-terra==0.23.2 in /Users/matteogiorgi/Library/Python/3.9/lib/python/site-packages (from qiskit[visualization]) (0.23.2)\n",
      "Requirement already satisfied: pygments>=2.4 in /Users/matteogiorgi/Library/Python/3.9/lib/python/site-packages (from qiskit[visualization]) (2.14.0)\n",
      "Requirement already satisfied: pillow>=4.2.1 in /Users/matteogiorgi/Library/Python/3.9/lib/python/site-packages (from qiskit[visualization]) (9.5.0)\n",
      "Requirement already satisfied: pylatexenc>=1.4 in /Users/matteogiorgi/Library/Python/3.9/lib/python/site-packages (from qiskit[visualization]) (2.10)\n",
      "Requirement already satisfied: ipywidgets>=7.3.0 in /Users/matteogiorgi/Library/Python/3.9/lib/python/site-packages (from qiskit[visualization]) (8.0.6)\n",
      "Requirement already satisfied: matplotlib>=2.1 in /Users/matteogiorgi/Library/Python/3.9/lib/python/site-packages (from qiskit[visualization]) (3.7.1)\n",
      "Requirement already satisfied: seaborn>=0.9.0 in /Users/matteogiorgi/Library/Python/3.9/lib/python/site-packages (from qiskit[visualization]) (0.12.2)\n",
      "Requirement already satisfied: pydot in /Users/matteogiorgi/Library/Python/3.9/lib/python/site-packages (from qiskit[visualization]) (1.4.2)\n",
      "Requirement already satisfied: numpy>=1.16.3 in /Users/matteogiorgi/Library/Python/3.9/lib/python/site-packages (from qiskit-aer==0.12.0->qiskit[visualization]) (1.23.5)\n",
      "Requirement already satisfied: scipy>=1.0 in /Users/matteogiorgi/Library/Python/3.9/lib/python/site-packages (from qiskit-aer==0.12.0->qiskit[visualization]) (1.10.1)\n",
      "Requirement already satisfied: websockets>=10.0 in /Users/matteogiorgi/Library/Python/3.9/lib/python/site-packages (from qiskit-ibmq-provider==0.20.2->qiskit[visualization]) (11.0.1)\n",
      "Requirement already satisfied: requests-ntlm<=1.1.0 in /Users/matteogiorgi/Library/Python/3.9/lib/python/site-packages (from qiskit-ibmq-provider==0.20.2->qiskit[visualization]) (1.1.0)\n",
      "Requirement already satisfied: websocket-client>=1.5.1 in /Users/matteogiorgi/Library/Python/3.9/lib/python/site-packages (from qiskit-ibmq-provider==0.20.2->qiskit[visualization]) (1.5.1)\n"
     ]
    },
    {
     "name": "stdout",
     "output_type": "stream",
     "text": [
      "Requirement already satisfied: urllib3>=1.21.1 in /Users/matteogiorgi/Library/Python/3.9/lib/python/site-packages (from qiskit-ibmq-provider==0.20.2->qiskit[visualization]) (1.26.15)\n",
      "Requirement already satisfied: requests>=2.19 in /Users/matteogiorgi/Library/Python/3.9/lib/python/site-packages (from qiskit-ibmq-provider==0.20.2->qiskit[visualization]) (2.28.2)\n",
      "Requirement already satisfied: python-dateutil>=2.8.0 in /Users/matteogiorgi/Library/Python/3.9/lib/python/site-packages (from qiskit-ibmq-provider==0.20.2->qiskit[visualization]) (2.8.2)\n",
      "Requirement already satisfied: ply>=3.10 in /Users/matteogiorgi/Library/Python/3.9/lib/python/site-packages (from qiskit-terra==0.23.2->qiskit[visualization]) (3.11)\n",
      "Requirement already satisfied: dill>=0.3 in /Users/matteogiorgi/Library/Python/3.9/lib/python/site-packages (from qiskit-terra==0.23.2->qiskit[visualization]) (0.3.6)\n",
      "Requirement already satisfied: stevedore>=3.0.0 in /Users/matteogiorgi/Library/Python/3.9/lib/python/site-packages (from qiskit-terra==0.23.2->qiskit[visualization]) (5.0.0)\n",
      "Requirement already satisfied: symengine>=0.9 in /Users/matteogiorgi/Library/Python/3.9/lib/python/site-packages (from qiskit-terra==0.23.2->qiskit[visualization]) (0.10.0)\n",
      "Requirement already satisfied: rustworkx>=0.12.0 in /Users/matteogiorgi/Library/Python/3.9/lib/python/site-packages (from qiskit-terra==0.23.2->qiskit[visualization]) (0.12.1)\n",
      "Requirement already satisfied: psutil>=5 in /Users/matteogiorgi/Library/Python/3.9/lib/python/site-packages (from qiskit-terra==0.23.2->qiskit[visualization]) (5.9.4)\n",
      "Requirement already satisfied: sympy>=1.3 in /Users/matteogiorgi/Library/Python/3.9/lib/python/site-packages (from qiskit-terra==0.23.2->qiskit[visualization]) (1.11.1)\n",
      "Requirement already satisfied: traitlets>=4.3.1 in /Users/matteogiorgi/Library/Python/3.9/lib/python/site-packages (from ipywidgets>=7.3.0->qiskit[visualization]) (5.9.0)\n",
      "Requirement already satisfied: ipykernel>=4.5.1 in /Users/matteogiorgi/Library/Python/3.9/lib/python/site-packages (from ipywidgets>=7.3.0->qiskit[visualization]) (6.22.0)\n",
      "Requirement already satisfied: widgetsnbextension~=4.0.7 in /Users/matteogiorgi/Library/Python/3.9/lib/python/site-packages (from ipywidgets>=7.3.0->qiskit[visualization]) (4.0.7)\n",
      "Requirement already satisfied: ipython>=6.1.0 in /Users/matteogiorgi/Library/Python/3.9/lib/python/site-packages (from ipywidgets>=7.3.0->qiskit[visualization]) (8.12.0)\n",
      "Requirement already satisfied: jupyterlab-widgets~=3.0.7 in /Users/matteogiorgi/Library/Python/3.9/lib/python/site-packages (from ipywidgets>=7.3.0->qiskit[visualization]) (3.0.7)\n",
      "Requirement already satisfied: jupyter-core!=5.0.*,>=4.12 in /Users/matteogiorgi/Library/Python/3.9/lib/python/site-packages (from ipykernel>=4.5.1->ipywidgets>=7.3.0->qiskit[visualization]) (5.3.0)\n",
      "Requirement already satisfied: matplotlib-inline>=0.1 in /Users/matteogiorgi/Library/Python/3.9/lib/python/site-packages (from ipykernel>=4.5.1->ipywidgets>=7.3.0->qiskit[visualization]) (0.1.6)\n",
      "Requirement already satisfied: packaging in /Users/matteogiorgi/Library/Python/3.9/lib/python/site-packages (from ipykernel>=4.5.1->ipywidgets>=7.3.0->qiskit[visualization]) (23.0)\n",
      "Requirement already satisfied: debugpy>=1.6.5 in /Users/matteogiorgi/Library/Python/3.9/lib/python/site-packages (from ipykernel>=4.5.1->ipywidgets>=7.3.0->qiskit[visualization]) (1.6.7)\n",
      "Requirement already satisfied: pyzmq>=20 in /Users/matteogiorgi/Library/Python/3.9/lib/python/site-packages (from ipykernel>=4.5.1->ipywidgets>=7.3.0->qiskit[visualization]) (25.0.2)\n",
      "Requirement already satisfied: tornado>=6.1 in /Users/matteogiorgi/Library/Python/3.9/lib/python/site-packages (from ipykernel>=4.5.1->ipywidgets>=7.3.0->qiskit[visualization]) (6.2)\n",
      "Requirement already satisfied: nest-asyncio in /Users/matteogiorgi/Library/Python/3.9/lib/python/site-packages (from ipykernel>=4.5.1->ipywidgets>=7.3.0->qiskit[visualization]) (1.5.6)\n",
      "Requirement already satisfied: comm>=0.1.1 in /Users/matteogiorgi/Library/Python/3.9/lib/python/site-packages (from ipykernel>=4.5.1->ipywidgets>=7.3.0->qiskit[visualization]) (0.1.3)\n",
      "Requirement already satisfied: appnope in /Users/matteogiorgi/Library/Python/3.9/lib/python/site-packages (from ipykernel>=4.5.1->ipywidgets>=7.3.0->qiskit[visualization]) (0.1.3)\n",
      "Requirement already satisfied: jupyter-client>=6.1.12 in /Users/matteogiorgi/Library/Python/3.9/lib/python/site-packages (from ipykernel>=4.5.1->ipywidgets>=7.3.0->qiskit[visualization]) (8.1.0)\n",
      "Requirement already satisfied: typing-extensions in /Users/matteogiorgi/Library/Python/3.9/lib/python/site-packages (from ipython>=6.1.0->ipywidgets>=7.3.0->qiskit[visualization]) (4.5.0)\n",
      "Requirement already satisfied: stack-data in /Users/matteogiorgi/Library/Python/3.9/lib/python/site-packages (from ipython>=6.1.0->ipywidgets>=7.3.0->qiskit[visualization]) (0.6.2)\n",
      "Requirement already satisfied: backcall in /Users/matteogiorgi/Library/Python/3.9/lib/python/site-packages (from ipython>=6.1.0->ipywidgets>=7.3.0->qiskit[visualization]) (0.2.0)\n",
      "Requirement already satisfied: pexpect>4.3 in /Users/matteogiorgi/Library/Python/3.9/lib/python/site-packages (from ipython>=6.1.0->ipywidgets>=7.3.0->qiskit[visualization]) (4.8.0)\n",
      "Requirement already satisfied: prompt-toolkit!=3.0.37,<3.1.0,>=3.0.30 in /Users/matteogiorgi/Library/Python/3.9/lib/python/site-packages (from ipython>=6.1.0->ipywidgets>=7.3.0->qiskit[visualization]) (3.0.38)\n",
      "Requirement already satisfied: decorator in /Users/matteogiorgi/Library/Python/3.9/lib/python/site-packages (from ipython>=6.1.0->ipywidgets>=7.3.0->qiskit[visualization]) (5.1.1)\n",
      "Requirement already satisfied: jedi>=0.16 in /Users/matteogiorgi/Library/Python/3.9/lib/python/site-packages (from ipython>=6.1.0->ipywidgets>=7.3.0->qiskit[visualization]) (0.18.2)\n",
      "Requirement already satisfied: pickleshare in /Users/matteogiorgi/Library/Python/3.9/lib/python/site-packages (from ipython>=6.1.0->ipywidgets>=7.3.0->qiskit[visualization]) (0.7.5)\n",
      "Requirement already satisfied: parso<0.9.0,>=0.8.0 in /Users/matteogiorgi/Library/Python/3.9/lib/python/site-packages (from jedi>=0.16->ipython>=6.1.0->ipywidgets>=7.3.0->qiskit[visualization]) (0.8.3)\n",
      "Requirement already satisfied: importlib-metadata>=4.8.3 in /Users/matteogiorgi/Library/Python/3.9/lib/python/site-packages (from jupyter-client>=6.1.12->ipykernel>=4.5.1->ipywidgets>=7.3.0->qiskit[visualization]) (6.1.0)\n",
      "Requirement already satisfied: zipp>=0.5 in /Users/matteogiorgi/Library/Python/3.9/lib/python/site-packages (from importlib-metadata>=4.8.3->jupyter-client>=6.1.12->ipykernel>=4.5.1->ipywidgets>=7.3.0->qiskit[visualization]) (3.15.0)\n",
      "Requirement already satisfied: platformdirs>=2.5 in /Users/matteogiorgi/Library/Python/3.9/lib/python/site-packages (from jupyter-core!=5.0.*,>=4.12->ipykernel>=4.5.1->ipywidgets>=7.3.0->qiskit[visualization]) (3.2.0)\n",
      "Requirement already satisfied: fonttools>=4.22.0 in /Users/matteogiorgi/Library/Python/3.9/lib/python/site-packages (from matplotlib>=2.1->qiskit[visualization]) (4.39.3)\n",
      "Requirement already satisfied: kiwisolver>=1.0.1 in /Users/matteogiorgi/Library/Python/3.9/lib/python/site-packages (from matplotlib>=2.1->qiskit[visualization]) (1.4.4)\n",
      "Requirement already satisfied: contourpy>=1.0.1 in /Users/matteogiorgi/Library/Python/3.9/lib/python/site-packages (from matplotlib>=2.1->qiskit[visualization]) (1.0.7)\n",
      "Requirement already satisfied: pyparsing>=2.3.1 in /Users/matteogiorgi/Library/Python/3.9/lib/python/site-packages (from matplotlib>=2.1->qiskit[visualization]) (3.0.9)\n",
      "Requirement already satisfied: importlib-resources>=3.2.0 in /Users/matteogiorgi/Library/Python/3.9/lib/python/site-packages (from matplotlib>=2.1->qiskit[visualization]) (5.12.0)\n",
      "Requirement already satisfied: cycler>=0.10 in /Users/matteogiorgi/Library/Python/3.9/lib/python/site-packages (from matplotlib>=2.1->qiskit[visualization]) (0.11.0)\n",
      "Requirement already satisfied: ptyprocess>=0.5 in /Users/matteogiorgi/Library/Python/3.9/lib/python/site-packages (from pexpect>4.3->ipython>=6.1.0->ipywidgets>=7.3.0->qiskit[visualization]) (0.7.0)\n",
      "Requirement already satisfied: wcwidth in /Users/matteogiorgi/Library/Python/3.9/lib/python/site-packages (from prompt-toolkit!=3.0.37,<3.1.0,>=3.0.30->ipython>=6.1.0->ipywidgets>=7.3.0->qiskit[visualization]) (0.2.6)\n"
     ]
    },
    {
     "name": "stdout",
     "output_type": "stream",
     "text": [
      "Requirement already satisfied: six>=1.5 in /Library/Developer/CommandLineTools/Library/Frameworks/Python3.framework/Versions/3.9/lib/python3.9/site-packages (from python-dateutil>=2.8.0->qiskit-ibmq-provider==0.20.2->qiskit[visualization]) (1.15.0)\n",
      "Requirement already satisfied: charset-normalizer<4,>=2 in /Users/matteogiorgi/Library/Python/3.9/lib/python/site-packages (from requests>=2.19->qiskit-ibmq-provider==0.20.2->qiskit[visualization]) (3.1.0)\n",
      "Requirement already satisfied: idna<4,>=2.5 in /Users/matteogiorgi/Library/Python/3.9/lib/python/site-packages (from requests>=2.19->qiskit-ibmq-provider==0.20.2->qiskit[visualization]) (3.4)\n",
      "Requirement already satisfied: certifi>=2017.4.17 in /Users/matteogiorgi/Library/Python/3.9/lib/python/site-packages (from requests>=2.19->qiskit-ibmq-provider==0.20.2->qiskit[visualization]) (2022.12.7)\n",
      "Requirement already satisfied: cryptography>=1.3 in /Users/matteogiorgi/Library/Python/3.9/lib/python/site-packages (from requests-ntlm<=1.1.0->qiskit-ibmq-provider==0.20.2->qiskit[visualization]) (40.0.1)\n",
      "Requirement already satisfied: ntlm-auth>=1.0.2 in /Users/matteogiorgi/Library/Python/3.9/lib/python/site-packages (from requests-ntlm<=1.1.0->qiskit-ibmq-provider==0.20.2->qiskit[visualization]) (1.5.0)\n",
      "Requirement already satisfied: cffi>=1.12 in /Users/matteogiorgi/Library/Python/3.9/lib/python/site-packages (from cryptography>=1.3->requests-ntlm<=1.1.0->qiskit-ibmq-provider==0.20.2->qiskit[visualization]) (1.15.1)\n",
      "Requirement already satisfied: pycparser in /Users/matteogiorgi/Library/Python/3.9/lib/python/site-packages (from cffi>=1.12->cryptography>=1.3->requests-ntlm<=1.1.0->qiskit-ibmq-provider==0.20.2->qiskit[visualization]) (2.21)\n",
      "Requirement already satisfied: pandas>=0.25 in /Users/matteogiorgi/Library/Python/3.9/lib/python/site-packages (from seaborn>=0.9.0->qiskit[visualization]) (2.0.0)\n",
      "Requirement already satisfied: pytz>=2020.1 in /Users/matteogiorgi/Library/Python/3.9/lib/python/site-packages (from pandas>=0.25->seaborn>=0.9.0->qiskit[visualization]) (2023.3)\n",
      "Requirement already satisfied: tzdata>=2022.1 in /Users/matteogiorgi/Library/Python/3.9/lib/python/site-packages (from pandas>=0.25->seaborn>=0.9.0->qiskit[visualization]) (2023.3)\n",
      "Requirement already satisfied: pbr!=2.1.0,>=2.0.0 in /Users/matteogiorgi/Library/Python/3.9/lib/python/site-packages (from stevedore>=3.0.0->qiskit-terra==0.23.2->qiskit[visualization]) (5.11.1)\n",
      "Requirement already satisfied: mpmath>=0.19 in /Users/matteogiorgi/Library/Python/3.9/lib/python/site-packages (from sympy>=1.3->qiskit-terra==0.23.2->qiskit[visualization]) (1.3.0)\n",
      "Requirement already satisfied: asttokens>=2.1.0 in /Users/matteogiorgi/Library/Python/3.9/lib/python/site-packages (from stack-data->ipython>=6.1.0->ipywidgets>=7.3.0->qiskit[visualization]) (2.2.1)\n",
      "Requirement already satisfied: pure-eval in /Users/matteogiorgi/Library/Python/3.9/lib/python/site-packages (from stack-data->ipython>=6.1.0->ipywidgets>=7.3.0->qiskit[visualization]) (0.2.2)\n",
      "Requirement already satisfied: executing>=1.2.0 in /Users/matteogiorgi/Library/Python/3.9/lib/python/site-packages (from stack-data->ipython>=6.1.0->ipywidgets>=7.3.0->qiskit[visualization]) (1.2.0)\n",
      "\u001b[33mWARNING: You are using pip version 21.2.4; however, version 23.0.1 is available.\n",
      "You should consider upgrading via the '/Library/Developer/CommandLineTools/usr/bin/python3 -m pip install --upgrade pip' command.\u001b[0m\n"
     ]
    }
   ],
   "source": [
    "!pip3 install qiskit==0.42\n",
    "!pip3 install 'qiskit[visualization]'x"
   ]
  },
  {
   "cell_type": "code",
   "execution_count": null,
   "id": "fe994f99",
   "metadata": {},
   "outputs": [],
   "source": [
    "from qiskit import QuantumCircuit, QuantumRegister\n",
    "from qiskit import ClassicalRegister\n",
    "from qiskit.visualization import plot_histogram"
   ]
  },
  {
   "cell_type": "code",
   "execution_count": null,
   "id": "4160634c",
   "metadata": {},
   "outputs": [],
   "source": [
    "q = QuantumRegister(1,'q')\n",
    "c_q = ClassicalRegister(1,'c_q')\n",
    "quantum_circuits = QuantumCircuit(q)"
   ]
  },
  {
   "cell_type": "code",
   "execution_count": null,
   "id": "d07fa3bf",
   "metadata": {},
   "outputs": [],
   "source": [
    "from qiskit import Aer, execute"
   ]
  },
  {
   "cell_type": "code",
   "execution_count": null,
   "id": "6d8429a3",
   "metadata": {},
   "outputs": [],
   "source": [
    "quantum_circuit.measure(q,c_q)\n",
    "\n",
    "backend_sim = Aer.get_backend('qasm_simulator') #utilizza questo simulatore \n",
    "job = execute(quantum_circuits,backend_sim,shots=1024) #shots è quante volte faccio eseguire il mio circuito\n",
    "count = job.result().get_counts()"
   ]
  },
  {
   "cell_type": "code",
   "execution_count": null,
   "id": "21f5d0ac",
   "metadata": {},
   "outputs": [],
   "source": [
    "plot_histogram(count)"
   ]
  },
  {
   "cell_type": "code",
   "execution_count": null,
   "id": "7e8dc719",
   "metadata": {},
   "outputs": [],
   "source": [
    "from qiskit.circuit.library import XGate\n",
    "\n",
    "q = QuantumRegister(1,'q')\n",
    "c_q = ClassicalRegister(1,'c_q')\n",
    "quantum_circuits = QuantumCircuit(q)\n",
    "\n",
    "quantum_circuits.append(XGate(),q)#secondo parametro dove applicare il gate a quale qubit"
   ]
  },
  {
   "cell_type": "code",
   "execution_count": null,
   "id": "494ee778",
   "metadata": {},
   "outputs": [],
   "source": [
    "quantum_circuit.draw('mpl')"
   ]
  },
  {
   "cell_type": "code",
   "execution_count": null,
   "id": "e9184b64",
   "metadata": {},
   "outputs": [],
   "source": [
    "quantum_circuit.measure(q,c_q)\n",
    "quantum_circuit.draw('mpl')"
   ]
  },
  {
   "cell_type": "code",
   "execution_count": null,
   "id": "36ae43c7",
   "metadata": {},
   "outputs": [],
   "source": [
    "backend_sim = Aer.get_backend('qasm_simulator') #utilizza questo simulatore \n",
    "job = execute(quantum_circuits,backend_sim,shots=1024) #shots è quante volte faccio eseguire il mio circuito\n",
    "count = job.result().get_counts()\n",
    "plot_histogram(count)"
   ]
  },
  {
   "cell_type": "code",
   "execution_count": null,
   "id": "45d486d5",
   "metadata": {},
   "outputs": [],
   "source": [
    "from qiskit.visualization import plot_block_multivector\n",
    "\n",
    "q = QuantumRegister(1,'q')\n",
    "c_q = ClassicalRegister(1,'c_q')\n",
    "quantum_circuits = QuantumCircuit(q)\n",
    "\n",
    "quantum_circuits.append(XGate(),q)#secondo parametro dove applicare il gate a quale qubit\n",
    "\n",
    "#NON STO APPLICANDO PIU UNA SIMULAZIONE\n",
    "\n",
    "backend_sim = Aer.get_backend('statevector_simulator') #utilizza questo simulatore \n",
    "job = execute(quantum_circuits,backend_sim)\n",
    "statevector = job.result().get_statevector()\n",
    "\n",
    "plot_bloch_multivector(statevector)"
   ]
  },
  {
   "cell_type": "code",
   "execution_count": null,
   "id": "02cc92bb",
   "metadata": {},
   "outputs": [],
   "source": [
    "from qiskit.circuit.library import HGate\n",
    "\n",
    "q = QuantumRegister(1,'q')\n",
    "c_q = ClassicalRegister(1,'c_q')\n",
    "quantum_circuits = QuantumCircuit(q)\n",
    "quantum_circuits.append(HGate(),q)\n",
    "\n",
    "quantum_circuits.draw('mpl')\n",
    "\n",
    "backend_sim = Aer.get_backend('statevector_simulator') #utilizza questo simulatore \n",
    "job = execute(quantum_circuits,backend_sim)\n",
    "statevector = job.result().get_statevector()\n",
    "\n",
    "plot_bloch_multivector(statevector)"
   ]
  },
  {
   "cell_type": "code",
   "execution_count": null,
   "id": "64362899",
   "metadata": {},
   "outputs": [],
   "source": [
    "quantum_circuit.measure(q,c_q)\n",
    "\n",
    "backend_sim = Aer.get_backend('qasm_simulator') #utilizza questo simulatore \n",
    "job = execute(quantum_circuits,backend_sim,shots=1024) #shots è quante volte faccio eseguire il mio circuito\n",
    "count = job.result().get_counts()\n",
    "\n",
    "plot_histogram(count)"
   ]
  },
  {
   "cell_type": "code",
   "execution_count": null,
   "id": "0f538662",
   "metadata": {},
   "outputs": [],
   "source": [
    "n_qubits = 4\n",
    "\n",
    "q = QuantuumRegister(n_qubits,'q')\n",
    "c_q = QuantumCircuit(n_qubits,'c_q')\n",
    "\n",
    "quantum_circuit = QuantumCircuit(q,c_q)\n",
    "\n",
    "quantum_circuit.append(XGate(),[q[1]])\n",
    "\n",
    "quantum_circuit.draw('mpl')"
   ]
  },
  {
   "cell_type": "code",
   "execution_count": null,
   "id": "f7161908",
   "metadata": {},
   "outputs": [],
   "source": [
    "quantum_circuit.measure(q,c_q)\n",
    "\n",
    "backend_sim = Aer.get_backend('qasm_simulator') #utilizza questo simulatore \n",
    "job = execute(quantum_circuits,backend_sim,shots=1024) #shots è quante volte faccio eseguire il mio circuito\n",
    "count = job.result().get_counts()\n",
    "\n",
    "plot_histogram(count)"
   ]
  },
  {
   "cell_type": "code",
   "execution_count": null,
   "id": "e4653a64",
   "metadata": {},
   "outputs": [],
   "source": [
    "n_qubits = 2\n",
    "\n",
    "q = QuantuumRegister(n_qubits,'q')\n",
    "c_q = QuantumCircuit(n_qubits,'c_q')\n",
    "\n",
    "quantum_circuit = QuantumCircuit(q,c_q)\n",
    "\n",
    "quantum_circuit.append(HGate(),[q])\n",
    "\n",
    "quantum_circuit.measure(q,c_q)\n",
    "\n",
    "quantum_circuit.draw('mpl')\n",
    "\n",
    "backend_sim = Aer.get_backend('qasm_simulator') #utilizza questo simulatore \n",
    "job = execute(quantum_circuits,backend_sim,shots=1024) #shots è quante volte faccio eseguire il mio circuito\n",
    "count = job.result().get_counts()\n",
    "\n",
    "plot_histogram(count)"
   ]
  },
  {
   "cell_type": "code",
   "execution_count": null,
   "id": "fae747ec",
   "metadata": {},
   "outputs": [],
   "source": [
    "#codifica di un numero 1101\n",
    "n_qubits = 4\n",
    "\n",
    "q = QuantuumRegister(n_qubits,'q')\n",
    "c_q = QuantumCircuit(n_qubits,'c_q')\n",
    "quantum_circuit = QuantumCircuit(q,c_q)\n",
    "\n",
    "quantum_circuit.append(XGate,[q[0]])\n",
    "quantum_circuit.append(XGate,[q[2]])\n",
    "quantum_circuit.append(XGate,[q[3]])\n",
    "\n",
    "quantum_circuit.measure(q,c_q)\n",
    "\n",
    "quantum_circuit.draw('mpl')\n",
    "\n",
    "backend_sim = Aer.get_backend('qasm_simulator') #utilizza questo simulatore \n",
    "job = execute(quantum_circuits,backend_sim,shots=1024) #shots è quante volte faccio eseguire il mio circuito\n",
    "count = job.result().get_counts()\n",
    "\n",
    "plot_histogram(count)"
   ]
  },
  {
   "cell_type": "code",
   "execution_count": null,
   "id": "59f4b21c",
   "metadata": {},
   "outputs": [],
   "source": [
    "#controlled gate\n",
    "#if\n",
    "\n",
    "n_qubits = 2\n",
    "\n",
    "q = QuantuumRegister(n_qubits,'q')\n",
    "c_q = QuantumCircuit(n_qubits,'c_q')\n",
    "quantum_circuit = QuantumCircuit(q,c_q)\n",
    "\n",
    "quantum_circuit.append(XGate(),q[0])\n",
    "\n",
    "CXGate =XGate.control(1)\n",
    "\n",
    "quantum_circuit.append(CXGate,[q[0],q[1]])\n",
    "\n",
    "quantum_circuit.barrier()\n",
    "\n",
    "\n",
    "quantum_circuit.measure(q,c_q)\n",
    "\n",
    "quantum_circuit.draw('mpl')\n"
   ]
  },
  {
   "cell_type": "code",
   "execution_count": null,
   "id": "e9ceb179",
   "metadata": {},
   "outputs": [],
   "source": [
    "n_qubits = 2\n",
    "n_controls = 3\n",
    "\n",
    "q = QuantuumRegister(n_qubits,'q')\n",
    "c_q = QuantumCircuit(n_qubits,'c_q')\n",
    "quantum_circuit = QuantumCircuit(q,c_q)\n",
    "\n",
    "CHGate = HGate.control(n_controls)\n",
    "\n",
    "quantum_circuit.append(XGate(),q[0])\n",
    "quantum_circuit.append(XGate(),q[1])\n",
    "quantum_circuit.append(XGate(),q[2])\n",
    "\n",
    "quantum_circuit.append(CHGate,[q[0],q[1],q[2],q[3]])\n",
    "\n",
    "quantum_circuit.measure(q,c_q)\n",
    "\n",
    "quantum_circuit.draw('mpl')"
   ]
  },
  {
   "cell_type": "code",
   "execution_count": null,
   "id": "94532cb1",
   "metadata": {},
   "outputs": [],
   "source": [
    "import numpy as np\n",
    "from qiskit.circuit.library import RYGate\n",
    "\n",
    "q = QuantuumRegister(n_qubits,'q')\n",
    "c_q = QuantumCircuit(n_qubits,'c_q')\n",
    "quantum_circuit = QuantumCircuit(q,c_q)\n",
    "\n",
    "CRYGate = RYGate(np.pi).control(1)\n",
    "\n",
    "quantum_circuit.append(RYGate,[q[0],q[1]])\n",
    "\n",
    "quantum_circuit.draw('mpl')"
   ]
  },
  {
   "cell_type": "code",
   "execution_count": null,
   "id": "21671e2a",
   "metadata": {},
   "outputs": [],
   "source": [
    "quantum_circuit.decompose().draw('mpl')"
   ]
  },
  {
   "cell_type": "code",
   "execution_count": null,
   "id": "e668cca3",
   "metadata": {},
   "outputs": [],
   "source": [
    "#entaglement\n",
    "\n",
    "q = QuantuumRegister(n_qubits,'q')\n",
    "c_q = QuantumCircuit(n_qubits,'c_q')\n",
    "quantum_circuit = QuantumCircuit(q,c_q)\n",
    "\n",
    "quantum_circuit.append(HGate(),[q[0]])\n",
    "\n",
    "CXGate = CXGate().control(1)\n",
    "\n",
    "quantum_circuit.append(CXGate,[q[0],q[1]])\n",
    "\n",
    "quantum_circuit.measure(q,c_q)\n",
    "\n",
    "quantum_circuit.draw('mpl')"
   ]
  },
  {
   "cell_type": "code",
   "execution_count": null,
   "id": "492d24aa",
   "metadata": {},
   "outputs": [],
   "source": [
    "from qiskit import IBMQ\n",
    "\n",
    "IBMQ.save_account(TOKEN)\n",
    "IMBQ.load_account()\n",
    "IBMQ.providers()\n",
    "\n",
    "provider = IBMQ.get ... "
   ]
  },
  {
   "cell_type": "code",
   "execution_count": null,
   "id": "81776a28",
   "metadata": {},
   "outputs": [],
   "source": [
    "#entaglement\n",
    "\n",
    "q = QuantuumRegister(n_qubits,'q')\n",
    "c_q = QuantumCircuit(n_qubits,'c_q')\n",
    "quantum_circuit = QuantumCircuit(q,c_q)\n",
    "\n",
    "quantum_circuit.append(HGate(),[q[0]])\n",
    "\n",
    "CXGate = CXGate().control(1)\n",
    "\n",
    "quantum_circuit.append(CXGate,[q[0],q[1]])\n",
    "\n",
    "quantum_circuit.measure(q,c_q)\n",
    "\n",
    "quantum_circuit.draw('mpl')"
   ]
  },
  {
   "cell_type": "code",
   "execution_count": null,
   "id": "ae17199f",
   "metadata": {},
   "outputs": [],
   "source": [
    "real_device = provider.get_backend('ibm_nairobi')\n",
    "job = execute(quantum_circuits,real_device,shots=100) #shots è quante volte faccio eseguire il mio circuito\n",
    "print(job.job_id())"
   ]
  },
  {
   "cell_type": "code",
   "execution_count": null,
   "id": "f04bf79b",
   "metadata": {},
   "outputs": [],
   "source": [
    "from qiskit.tool.monitor import job_monitor\n",
    "job_monitor(job)"
   ]
  },
  {
   "cell_type": "code",
   "execution_count": null,
   "id": "52f926bb",
   "metadata": {},
   "outputs": [],
   "source": [
    "device_result = job.result()"
   ]
  },
  {
   "cell_type": "code",
   "execution_count": null,
   "id": "427c22de",
   "metadata": {},
   "outputs": [],
   "source": [
    "plot_histogram(device_result.get_count())"
   ]
  },
  {
   "cell_type": "code",
   "execution_count": null,
   "id": "58ae4535",
   "metadata": {},
   "outputs": [],
   "source": []
  }
 ],
 "metadata": {
  "kernelspec": {
   "display_name": "Python 3 (ipykernel)",
   "language": "python",
   "name": "python3"
  },
  "language_info": {
   "codemirror_mode": {
    "name": "ipython",
    "version": 3
   },
   "file_extension": ".py",
   "mimetype": "text/x-python",
   "name": "python",
   "nbconvert_exporter": "python",
   "pygments_lexer": "ipython3",
   "version": "3.9.12"
  }
 },
 "nbformat": 4,
 "nbformat_minor": 5
}
